{
 "cells": [
  {
   "cell_type": "code",
   "execution_count": 20,
   "id": "df909a70",
   "metadata": {},
   "outputs": [],
   "source": [
    "import numpy as np\n",
    "import time\n",
    "import pandas as pd\n",
    "from scipy.stats import qmc, norm"
   ]
  },
  {
   "cell_type": "code",
   "execution_count": 10,
   "id": "b94780ed",
   "metadata": {},
   "outputs": [],
   "source": [
    "S0 = 100\n",
    "K = 100\n",
    "r = 0.05\n",
    "sigma = 0.1"
   ]
  },
  {
   "cell_type": "code",
   "execution_count": 4,
   "id": "f338ff7e",
   "metadata": {},
   "outputs": [],
   "source": [
    "T = 252\n",
    "N = 1\n",
    "dt = N / T\n",
    "sqrt_dt = np.sqrt(dt)"
   ]
  },
  {
   "cell_type": "code",
   "execution_count": 166,
   "id": "db14b325",
   "metadata": {},
   "outputs": [],
   "source": [
    "def payoff_european(S, call = True):\n",
    "    if call:\n",
    "        return np.maximum(S[-1] - K, 0)\n",
    "    else:\n",
    "        return np.maximum(K - S[-1], 0)\n",
    "\n",
    "def payoff_asian(S, call = True):\n",
    "    if call:\n",
    "        return np.maximum(S.mean(axis = 0) - K, 0)\n",
    "    else:\n",
    "        return np.maximum(K - S.mean(axis = 0), 0)\n",
    "    \n",
    "def payoff_asian_importance(S, likelihood_ratio = 0.5, call=True):\n",
    "    raw_payoff = np.maximum(S.mean(axis=0) - K, 0) if call else np.maximum(K - S.mean(axis=0), 0)\n",
    "    return raw_payoff * likelihood_ratio"
   ]
  },
  {
   "cell_type": "code",
   "execution_count": 41,
   "id": "80cfc9fa",
   "metadata": {},
   "outputs": [
    {
     "name": "stderr",
     "output_type": "stream",
     "text": [
      "C:\\Users\\starr\\AppData\\Local\\Temp\\ipykernel_19232\\1749245857.py:2: UserWarning: The balance properties of Sobol' points require n to be a power of 2.\n",
      "  u = sampler.random(10)\n"
     ]
    },
    {
     "data": {
      "text/plain": [
       "array([0.51634644, 0.30371271, 0.02498414, 0.81069983, 0.89326006,\n",
       "       0.17681757, 0.40195722, 0.68374547, 0.72182543, 0.44199892])"
      ]
     },
     "execution_count": 41,
     "metadata": {},
     "output_type": "execute_result"
    }
   ],
   "source": [
    "sampler = qmc.Sobol(d=1, scramble=True)\n",
    "u = sampler.random(10)\n",
    "u.squeeze()"
   ]
  },
  {
   "cell_type": "code",
   "execution_count": 70,
   "id": "f0dcb577",
   "metadata": {},
   "outputs": [],
   "source": [
    "def quasi_random_normal_samples(n, dim = 1):\n",
    "    sampler = qmc.Sobol(d=dim, scramble=True)\n",
    "    u = sampler.random(n)\n",
    "    u = u.squeeze()\n",
    "    z = norm.ppf(u)\n",
    "\n",
    "    return z"
   ]
  },
  {
   "cell_type": "code",
   "execution_count": 165,
   "id": "1423b8b1",
   "metadata": {},
   "outputs": [
    {
     "name": "stderr",
     "output_type": "stream",
     "text": [
      "C:\\Users\\starr\\anaconda3\\lib\\site-packages\\numpy\\core\\_methods.py:236: RuntimeWarning: invalid value encountered in subtract\n",
      "  x = asanyarray(arr - arrmean)\n"
     ]
    },
    {
     "data": {
      "text/plain": [
       "(-inf, nan)"
      ]
     },
     "execution_count": 165,
     "metadata": {},
     "output_type": "execute_result"
    }
   ],
   "source": [
    "sampler = qmc.Sobol(d=1, scramble=True)\n",
    "u = sampler.random(256)\n",
    "u = u.squeeze()\n",
    "z = norm.ppf(u)\n",
    "z.mean(), z.std()"
   ]
  },
  {
   "cell_type": "code",
   "execution_count": 67,
   "id": "c3bf61d0",
   "metadata": {},
   "outputs": [],
   "source": [
    "def quasi_brownian_asset(S_i, n):\n",
    "    Z = quasi_random_normal_samples(n)\n",
    "    return S_i * (1 + r * dt + sigma * sqrt_dt * Z)\n",
    "\n",
    "def brownian_asset(S_i, n):\n",
    "    Z = np.random.normal(size = n)    \n",
    "    return S_i * (1 + r * dt + sigma * sqrt_dt * Z)\n",
    "\n",
    "def antithetic_brownian_asset(S_i, n):\n",
    "    Z1 = np.random.normal(size = (int) (n/2))\n",
    "    Z2 = -Z1\n",
    "    \n",
    "    Z = np.empty((Z1.size + Z2.size,), dtype=Z1.dtype)\n",
    "    Z[0::2] = Z1\n",
    "    Z[1::2] = Z2\n",
    "    \n",
    "    return S_i * (1 + r * dt + sigma * sqrt_dt * Z)\n",
    "\n",
    "def brownian_asset_importance_sampling(S_i, n, mu_shift=0.2):\n",
    "    Z = np.random.normal(loc=mu_shift, size=n)\n",
    "    S_path = S_i * (1 + r * dt + sigma * sqrt_dt * Z)\n",
    "    \n",
    "    # Likelihood ratio for each Z sample\n",
    "    likelihood_ratio = np.exp(-mu_shift * Z + 0.5 * mu_shift**2)\n",
    "    \n",
    "    return S_path, likelihood_ratio"
   ]
  },
  {
   "cell_type": "code",
   "execution_count": 15,
   "id": "bd1b9b61",
   "metadata": {},
   "outputs": [],
   "source": [
    "def run_monte_carlo(n, price, payoff):\n",
    "    S = np.zeros((T, n)) + S0\n",
    "    \n",
    "    for i in range(1, T):\n",
    "        S[i] = price(S[i-1], n)\n",
    "        \n",
    "    return payoff(S).mean(), payoff(S).std()"
   ]
  },
  {
   "cell_type": "code",
   "execution_count": 126,
   "id": "3e271e27",
   "metadata": {},
   "outputs": [],
   "source": [
    "def run_experiment(method, payoff = payoff_asian):\n",
    "    n_list = np.arange(1, 7, 1)\n",
    "    v = np.zeros_like(n_list, dtype = np.float64)\n",
    "    std_devs = np.zeros_like(n_list, dtype = np.float64)\n",
    "    times = np.zeros_like(n_list, dtype = np.float64)\n",
    "\n",
    "    for i in range(len(n_list)):\n",
    "        start_time = time.time()\n",
    "        n = n_list[i]\n",
    "        v[i], std_devs[i] = run_monte_carlo(2 ** n, method, payoff)\n",
    "        times[i] = time.time() - start_time\n",
    "        \n",
    "    return (v, std_devs, times)"
   ]
  },
  {
   "cell_type": "code",
   "execution_count": 167,
   "id": "47f1a1e8",
   "metadata": {},
   "outputs": [
    {
     "data": {
      "text/plain": [
       "(array([14.63418577, 12.13763764,  8.40495644,  7.73993668,  8.57141584,\n",
       "         8.05371281]),\n",
       " array([ 2.13411169,  7.42429652, 11.36073177,  8.35379261,  8.39247029,\n",
       "         7.90960245]),\n",
       " array([0.00282216, 0.0037806 , 0.0015161 , 0.00407529, 0.        ,\n",
       "        0.00812459]))"
      ]
     },
     "execution_count": 167,
     "metadata": {},
     "output_type": "execute_result"
    }
   ],
   "source": [
    "run_experiment(brownian_asset, payoff = payoff_european)"
   ]
  },
  {
   "cell_type": "code",
   "execution_count": 168,
   "id": "5decd92b",
   "metadata": {},
   "outputs": [
    {
     "data": {
      "text/plain": [
       "(array([18.92675627,  5.63325075,  5.37057691,  8.90214009,  5.83261614,\n",
       "         7.15840452]),\n",
       " array([18.92675627,  4.88397983,  4.78558269,  9.95545415,  6.18270645,\n",
       "         7.7889781 ]),\n",
       " array([0.005651  , 0.00448203, 0.00093031, 0.00431585, 0.00392485,\n",
       "        0.00288391]))"
      ]
     },
     "execution_count": 168,
     "metadata": {},
     "output_type": "execute_result"
    }
   ],
   "source": [
    "run_experiment(antithetic_brownian_asset, payoff_european)"
   ]
  },
  {
   "cell_type": "code",
   "execution_count": 144,
   "id": "c166eb1d",
   "metadata": {},
   "outputs": [
    {
     "data": {
      "text/plain": [
       "(array([2.02851559, 1.96871753, 1.93455062, 1.88055961, 1.90737117,\n",
       "        1.90493511]),\n",
       " array([3.14354897e-03, 3.35454941e-03, 6.23559952e-03, 5.36286831e-02,\n",
       "        8.87056112e-01, 1.04932346e+01]))"
      ]
     },
     "execution_count": 144,
     "metadata": {},
     "output_type": "execute_result"
    }
   ],
   "source": [
    "run_experiment(antithetic_brownian_asset, payoff_asian_importance)"
   ]
  },
  {
   "cell_type": "code",
   "execution_count": 169,
   "id": "74fa158e",
   "metadata": {},
   "outputs": [
    {
     "data": {
      "text/plain": [
       "(array([7.05547244, 5.01807274, 6.44029423, 5.39100577, 5.95940337,\n",
       "        5.17600188]),\n",
       " array([6.97118165, 3.15065988, 3.9744513 , 5.17847153, 6.38071304,\n",
       "        4.15256337]),\n",
       " array([0.23583412, 0.306216  , 0.32207894, 0.33076835, 0.31311178,\n",
       "        0.31271029]))"
      ]
     },
     "execution_count": 169,
     "metadata": {},
     "output_type": "execute_result"
    }
   ],
   "source": [
    "run_experiment(quasi_brownian_asset, payoff_european)"
   ]
  }
 ],
 "metadata": {
  "kernelspec": {
   "display_name": "Python 3 (ipykernel)",
   "language": "python",
   "name": "python3"
  },
  "language_info": {
   "codemirror_mode": {
    "name": "ipython",
    "version": 3
   },
   "file_extension": ".py",
   "mimetype": "text/x-python",
   "name": "python",
   "nbconvert_exporter": "python",
   "pygments_lexer": "ipython3",
   "version": "3.9.13"
  }
 },
 "nbformat": 4,
 "nbformat_minor": 5
}
